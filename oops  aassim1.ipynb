{
 "cells": [
  {
   "cell_type": "code",
   "execution_count": 11,
   "id": "8834324b-b6f5-4fff-ae1e-905f9c498fa0",
   "metadata": {},
   "outputs": [],
   "source": [
    "#Q1, Create a vehicle class with an init method having instance variables as name_of_vehicle, max_speed\n",
    "#and average_of_vehicle.\n",
    "class Vehicle:\n",
    "    def __init__(self, name_of_vehicle, max_speed, average_of_vehicle):\n",
    "        self.name_of_vehicle = name_of_vehicle\n",
    "        self.max_speed = max_speed\n",
    "        self.average_of_vehicle = average_of_vehicle\n"
   ]
  },
  {
   "cell_type": "code",
   "execution_count": 12,
   "id": "69de3238-82dd-4e4e-b324-6a0dd0b5f6e4",
   "metadata": {},
   "outputs": [],
   "source": [
    "car = (name_of_vehicle := 'car', max_speed :=200, average_of_vehicle :=25)"
   ]
  },
  {
   "cell_type": "code",
   "execution_count": 13,
   "id": "2f55b7b8-b54c-4fda-a871-2a7b02af21e9",
   "metadata": {},
   "outputs": [
    {
     "name": "stdout",
     "output_type": "stream",
     "text": [
      "('car', 200, 25)\n"
     ]
    }
   ],
   "source": [
    "print(car)"
   ]
  },
  {
   "cell_type": "markdown",
   "id": "5447c49e-7781-4369-bc82-75e9f9c55349",
   "metadata": {},
   "source": [
    "Q2. Create a child class car from the vehicle class created in Que 1, which will inherit the vehicle class.\n",
    "Create a method named seating_capacity which takes capacity as an argument and returns the name of\n",
    "the vehicle and its seating capacity."
   ]
  },
  {
   "cell_type": "code",
   "execution_count": 16,
   "id": "9ca8cb56-b821-4249-b42d-4f7c4caab12d",
   "metadata": {},
   "outputs": [],
   "source": [
    "class Car(Vehicle):\n",
    "    def seating_capacity(self, capacity):\n",
    "        return {self.name_of_vehicle} \n",
    "    #has a seating capacity of {capacity}."
   ]
  },
  {
   "cell_type": "code",
   "execution_count": 19,
   "id": "c503b66e-f476-437c-856e-2efd767b4b51",
   "metadata": {},
   "outputs": [
    {
     "name": "stdout",
     "output_type": "stream",
     "text": [
      "{'priya'}\n"
     ]
    }
   ],
   "source": [
    "car_instance = Car(name_of_vehicle=\"priya\", max_speed=180, average_of_vehicle=30)\n",
    "capacity_result = car_instance.seating_capacity(capacity=5)\n",
    "print(capacity_result)"
   ]
  },
  {
   "cell_type": "markdown",
   "id": "5a85f067-ce91-4353-b371-6cc4e7ae78fb",
   "metadata": {},
   "source": [
    "Q3. What is multiple inheritance? Write a python code to demonstrate multiple inheritance."
   ]
  },
  {
   "cell_type": "markdown",
   "id": "ce6697ce-3e86-4252-92e2-7d4d61471adc",
   "metadata": {},
   "source": [
    "ANS:Multiple inheritance in Python refers to a situation where a class can inherit attributes and methods from more than one parent class. This allows a child class to inherit from multiple parent classes.\n"
   ]
  },
  {
   "cell_type": "code",
   "execution_count": 20,
   "id": "ec2d16ac-9915-470d-985b-62a3042a992c",
   "metadata": {},
   "outputs": [],
   "source": [
    "class Engine:\n",
    "    def start_engine(self):\n",
    "        return \"Engine started.\"\n",
    "\n",
    "class Wheels:\n",
    "    def roll(self):\n",
    "        return \"Wheels rolling.\"\n",
    "\n",
    "class Vehicle(Engine, Wheels):\n",
    "    def move(self):\n",
    "        engine_status = self.start_engine()\n",
    "        wheels_status = self.roll()\n",
    "        return f\"{engine_status} {wheels_status}\"\n"
   ]
  },
  {
   "cell_type": "code",
   "execution_count": 22,
   "id": "86ae9dae-4eee-4efa-8f8f-b1c3ec53ec2f",
   "metadata": {},
   "outputs": [
    {
     "ename": "NameError",
     "evalue": "name 'result' is not defined",
     "output_type": "error",
     "traceback": [
      "\u001b[0;31m---------------------------------------------------------------------------\u001b[0m",
      "\u001b[0;31mNameError\u001b[0m                                 Traceback (most recent call last)",
      "Cell \u001b[0;32mIn[22], line 1\u001b[0m\n\u001b[0;32m----> 1\u001b[0m \u001b[38;5;28mprint\u001b[39m(\u001b[43mresult\u001b[49m)\n",
      "\u001b[0;31mNameError\u001b[0m: name 'result' is not defined"
     ]
    }
   ],
   "source": []
  },
  {
   "cell_type": "markdown",
   "id": "02c0e112-fc4c-4435-be4c-2209b64d9e20",
   "metadata": {},
   "source": [
    "Q4. What are getter and setter in python? Create a class and create a getter and a setter method in this\n",
    "class."
   ]
  },
  {
   "cell_type": "code",
   "execution_count": 24,
   "id": "94e8e518-1162-42c4-88ac-07142416092c",
   "metadata": {},
   "outputs": [
    {
     "name": "stdout",
     "output_type": "stream",
     "text": [
      "Current value: 42\n"
     ]
    }
   ],
   "source": [
    "\n",
    "class ExampleClass:\n",
    "    def __init__(self):\n",
    "        self._value = 0  \n",
    "\n",
    "    # Getter method\n",
    "    def get_value(self):\n",
    "        return self._value\n",
    "\n",
    "    # Setter method\n",
    "    def set_value(self, new_value):\n",
    "        if new_value >= 0:\n",
    "            self._value = new_value\n",
    "        else:\n",
    "            print(\"Error: Value must be non-negative.\")\n",
    "example_instance = ExampleClass()\n",
    "example_instance.set_value(42)\n",
    "current_value = example_instance.get_value()\n",
    "print(\"Current value:\", current_value)"
   ]
  },
  {
   "cell_type": "markdown",
   "id": "bb4d7db0-8143-4eda-b1d4-daf8c3c680d1",
   "metadata": {},
   "source": [
    "Q5.What is method overriding in python? Write a python code to demonstrate method overriding.\n"
   ]
  },
  {
   "cell_type": "code",
   "execution_count": 25,
   "id": "37963a04-5ec6-42dd-bb98-0e8cc833b5c0",
   "metadata": {},
   "outputs": [],
   "source": [
    "\n",
    "class Animal:\n",
    "    def make_sound(self):\n",
    "        print(\"Generic animal sound\")\n",
    "\n",
    "class Dog(Animal):\n",
    "    def make_sound(self):\n",
    "        print(\"Bark bark!\")\n",
    "\n",
    "class Cat(Animal):\n",
    "    def make_sound(self):\n",
    "        print(\"Meow meow!\")\n",
    "\n",
    "# Instantiate objects\n",
    "generic_animal = Animal()\n",
    "dog = Dog()\n",
    "cat = Cat()\n",
    "\n"
   ]
  },
  {
   "cell_type": "code",
   "execution_count": 26,
   "id": "f0d59943-4242-4e94-b8b7-d63299b7a640",
   "metadata": {},
   "outputs": [
    {
     "name": "stdout",
     "output_type": "stream",
     "text": [
      "Generic animal sound\n"
     ]
    }
   ],
   "source": [
    "generic_animal.make_sound()"
   ]
  },
  {
   "cell_type": "code",
   "execution_count": 27,
   "id": "4872e1e7-3e40-408d-92df-687f15395f47",
   "metadata": {},
   "outputs": [
    {
     "name": "stdout",
     "output_type": "stream",
     "text": [
      "Bark bark!\n"
     ]
    }
   ],
   "source": [
    "dog.make_sound()"
   ]
  },
  {
   "cell_type": "code",
   "execution_count": 28,
   "id": "1c718f35-5e02-4c16-864c-4dad8ab9bb30",
   "metadata": {},
   "outputs": [
    {
     "name": "stdout",
     "output_type": "stream",
     "text": [
      "Meow meow!\n"
     ]
    }
   ],
   "source": [
    "cat.make_sound()"
   ]
  },
  {
   "cell_type": "code",
   "execution_count": null,
   "id": "8e8d001e-4d61-4d05-b258-114e84dd7cf6",
   "metadata": {},
   "outputs": [],
   "source": []
  }
 ],
 "metadata": {
  "kernelspec": {
   "display_name": "Python 3 (ipykernel)",
   "language": "python",
   "name": "python3"
  },
  "language_info": {
   "codemirror_mode": {
    "name": "ipython",
    "version": 3
   },
   "file_extension": ".py",
   "mimetype": "text/x-python",
   "name": "python",
   "nbconvert_exporter": "python",
   "pygments_lexer": "ipython3",
   "version": "3.10.8"
  }
 },
 "nbformat": 4,
 "nbformat_minor": 5
}
